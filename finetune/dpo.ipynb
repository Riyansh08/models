{
 "cells": [
  {
   "cell_type": "code",
   "execution_count": null,
   "metadata": {},
   "outputs": [],
   "source": [
    "%pip install wandb\n",
    "%pip install datasets "
   ]
  },
  {
   "cell_type": "code",
   "execution_count": 3,
   "metadata": {},
   "outputs": [],
   "source": [
    "import random \n",
    "import torch   \n",
    "import torch.nn as nn \n",
    "import torch.nn.functional as F\n",
    "import math  \n",
    "from dataclasses import dataclass \n",
    "from tokenizers import Tokenizer \n",
    "from pathlib import Path \n",
    "from torch.utils.data import Dataset , DataLoader \n",
    "import wandb \n",
    "from transformers import AutoTokenizer , AutoModelForCausalLM"
   ]
  },
  {
   "cell_type": "code",
   "execution_count": 8,
   "metadata": {},
   "outputs": [],
   "source": [
    "@dataclass \n",
    "class Config:\n",
    "    dpo_model_name : str = \"mistralai/Mistral-7B-Instruct\",\n",
    "    model_name : str = \"Qwen/Qwen2-0.5B-Instruct\",\n",
    "    dataset_name: str = \"trl-lib/ultrafeedback_binarized\",\n",
    "    batch_size : int = 2 ,\n",
    "    beta : float = 0.1 , \n",
    "    learning_rate : float = 1e-4 \n",
    "    HF_TOKEN : str = \"PASS\""
   ]
  },
  {
   "cell_type": "code",
   "execution_count": null,
   "metadata": {},
   "outputs": [],
   "source": [
    "wandb.init(project=\"dpo-finetune\" , \n",
    "           config = Config)\n"
   ]
  },
  {
   "cell_type": "code",
   "execution_count": null,
   "metadata": {},
   "outputs": [],
   "source": [
    "class DPO:\n",
    "    def __init__(self , config: Config):\n",
    "        self.config = Config()\n",
    "        self.ref_model = AutoModelForCausalLM.from_pretrained(self.config.dpo_model_name , token = self.config.HF_TOKEN)\n",
    "        self.model = AutoModelForCausalLM.from_pretrained(self.config.model_name , token = self.config.HF_TOKEN) \n",
    "        self.device = torch.device(\"cuda\" if torch.cuda.is_available() else \"cpu\")\n",
    "        self.tokenizer = AutoTokenizer.from_pretrained(self.config.model_name , token = self.config.HF_TOKEN) \n",
    "        self.ref_model.eval()\n",
    "    \n",
    "    def DPOLoss(self , datapoint):\n",
    "        \"\"\"Compute the DPO loss for a single datapoint\"\"\"\n",
    "        \n",
    "        \n",
    "        "
   ]
  },
  {
   "cell_type": "code",
   "execution_count": null,
   "metadata": {},
   "outputs": [],
   "source": []
  }
 ],
 "metadata": {
  "kernelspec": {
   "display_name": "Python 3",
   "language": "python",
   "name": "python3"
  },
  "language_info": {
   "codemirror_mode": {
    "name": "ipython",
    "version": 3
   },
   "file_extension": ".py",
   "mimetype": "text/x-python",
   "name": "python",
   "nbconvert_exporter": "python",
   "pygments_lexer": "ipython3",
   "version": "3.12.2"
  }
 },
 "nbformat": 4,
 "nbformat_minor": 2
}
